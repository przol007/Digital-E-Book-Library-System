{
  "cells": [
    {
      "cell_type": "markdown",
      "metadata": {
        "id": "view-in-github",
        "colab_type": "text"
      },
      "source": [
        "<a href=\"https://colab.research.google.com/github/przol007/Digital-E-Book-Library-System/blob/main/GROUP_150_CN7031.ipynb\" target=\"_parent\"><img src=\"https://colab.research.google.com/assets/colab-badge.svg\" alt=\"Open In Colab\"/></a>"
      ]
    },
    {
      "cell_type": "markdown",
      "metadata": {
        "id": "Lx9-Fre4FMda"
      },
      "source": [
        "# **Big Data Analytics [CN7031] CRWK 2023-24**\n",
        "# **Group ID: [150]**\n",
        "1.   Student 1: Prajol Chaudhary and u2517700\n",
        "2.   Student 2: Ramesh Molligoda and u2531449\n",
        "3.   Student 3: Srija Padigapati and u2520396\n",
        "4.   Student 4: Puspa Khanal Timilsena and u2530657\n",
        "\n",
        "---\n",
        "\n",
        "\n",
        "If you want to add comments on your group work, please write it here for us:"
      ]
    },
    {
      "cell_type": "markdown",
      "metadata": {
        "id": "GdMZR-9QTwG3"
      },
      "source": [
        "\n",
        "# **Initiate and Configure Spark**\n",
        "\n",
        "---\n"
      ]
    },
    {
      "cell_type": "code",
      "execution_count": null,
      "metadata": {
        "id": "2wbXV70D6xbl"
      },
      "outputs": [],
      "source": [
        "!pip3 install pyspark"
      ]
    },
    {
      "cell_type": "code",
      "execution_count": null,
      "metadata": {
        "id": "_z0p88Xtw_3-"
      },
      "outputs": [],
      "source": [
        "# linking with Spark\n"
      ]
    },
    {
      "cell_type": "markdown",
      "metadata": {
        "id": "6P2CZVl6TOQX"
      },
      "source": [
        "# **Load Unstructured Data and Convert it to Spark DF [10 marks]**\n",
        "\n",
        "---\n"
      ]
    },
    {
      "cell_type": "code",
      "execution_count": null,
      "metadata": {
        "id": "efdQkCg_soaq"
      },
      "outputs": [],
      "source": [
        "# Load the unstructrued data: (1) drag and drop data here or (2) use Google Drive"
      ]
    },
    {
      "cell_type": "code",
      "execution_count": null,
      "metadata": {
        "id": "U-zSlLkNtCCw"
      },
      "outputs": [],
      "source": [
        "# Convert the unstructrued data to Spark DF\n"
      ]
    },
    {
      "cell_type": "markdown",
      "metadata": {
        "id": "-RjT7_UHAqic"
      },
      "source": [
        "\n",
        "# **Task 1: Spark SQL [30 marks]**\n",
        "\n",
        "---\n",
        "\n"
      ]
    },
    {
      "cell_type": "code",
      "execution_count": null,
      "metadata": {
        "id": "7fCFTcOQBLD2"
      },
      "outputs": [],
      "source": [
        "# Student 1 name and ID\n",
        "# Query 1 [Briefly explain with output]:\n",
        "\n"
      ]
    },
    {
      "cell_type": "code",
      "execution_count": null,
      "metadata": {
        "id": "px6ndUu-SaO1"
      },
      "outputs": [],
      "source": [
        "# Student 1 name and ID\n",
        "# Query 2 [Briefly explain with output]:\n"
      ]
    },
    {
      "cell_type": "code",
      "execution_count": null,
      "metadata": {
        "id": "G4OQ9MvKBAUQ"
      },
      "outputs": [],
      "source": [
        "# Student 2 name and ID\n",
        "# Query 1 [Briefly explain with output]:\n"
      ]
    },
    {
      "cell_type": "code",
      "execution_count": null,
      "metadata": {
        "id": "c7bOzYDvSfMo"
      },
      "outputs": [],
      "source": [
        "# Student 2 name and ID\n",
        "# Query 2 [Briefly explain with output]:\n"
      ]
    },
    {
      "cell_type": "code",
      "execution_count": null,
      "metadata": {
        "id": "Vkh4cLhuBEly"
      },
      "outputs": [],
      "source": [
        "# Student 3 name and ID\n",
        "# Query 1 [Briefly explain with output]:\n"
      ]
    },
    {
      "cell_type": "code",
      "execution_count": null,
      "metadata": {
        "id": "WQM_0VVmSjzK"
      },
      "outputs": [],
      "source": [
        "# Student 3 name and ID\n",
        "# Query 2 [Briefly explain with output]:\n"
      ]
    },
    {
      "cell_type": "code",
      "execution_count": null,
      "metadata": {
        "id": "0Rm5BZNdBIbC"
      },
      "outputs": [],
      "source": [
        "# Student 4 name and ID\n",
        "# Query 1 [Briefly explain with output]:\n"
      ]
    },
    {
      "cell_type": "code",
      "execution_count": null,
      "metadata": {
        "id": "uojM8-mJSnyg"
      },
      "outputs": [],
      "source": [
        "# Student 4 name and ID\n",
        "# Query 2 [Briefly explain with output]:\n"
      ]
    },
    {
      "cell_type": "markdown",
      "metadata": {
        "id": "dcJhGbI2BKpx"
      },
      "source": [
        "\n",
        "# **Task 2 - Spark RDD [50 marks]**\n",
        "\n",
        "---\n"
      ]
    },
    {
      "cell_type": "code",
      "execution_count": null,
      "metadata": {
        "id": "V3eiN9geBQRf"
      },
      "outputs": [],
      "source": [
        "# Student 1 name and ID\n",
        "# analysis 1 and result using RDD operators:\n",
        "\n"
      ]
    },
    {
      "cell_type": "code",
      "execution_count": null,
      "metadata": {
        "id": "FQ_-hgdeiMle"
      },
      "outputs": [],
      "source": [
        "# Student 1 name and ID\n",
        "# analysis 2 and result using RDD operators:\n",
        "\n"
      ]
    },
    {
      "cell_type": "code",
      "execution_count": null,
      "metadata": {
        "id": "2JGQHXYliMK5"
      },
      "outputs": [],
      "source": [
        "# Student 1 name and ID\n",
        "# analysis 3 and result using RDD operators:\n",
        "\n"
      ]
    },
    {
      "cell_type": "code",
      "execution_count": null,
      "metadata": {
        "id": "A5mwMvIsBQlX"
      },
      "outputs": [],
      "source": [
        "# Student 2 name and ID\n",
        "# analysis 1 and result using RDD operators:\n",
        "\n"
      ]
    },
    {
      "cell_type": "code",
      "execution_count": null,
      "metadata": {
        "id": "ElWikZNGBQti"
      },
      "outputs": [],
      "source": [
        "# Student 2 name and ID\n",
        "# analysis 2 and result using RDD operators:\n",
        "\n"
      ]
    },
    {
      "cell_type": "code",
      "execution_count": null,
      "metadata": {
        "id": "dKsR4pkJBRaB"
      },
      "outputs": [],
      "source": [
        "# Student 2 name and ID\n",
        "# analysis 3 and result using RDD operators:\n",
        "\n"
      ]
    },
    {
      "cell_type": "code",
      "execution_count": null,
      "metadata": {
        "id": "pltbpQ2iiVj0"
      },
      "outputs": [],
      "source": [
        "# Student 3 name and ID\n",
        "# analysis 1 and result using RDD operators:\n",
        "\n"
      ]
    },
    {
      "cell_type": "code",
      "execution_count": null,
      "metadata": {
        "id": "hBqDFxLHiVqT"
      },
      "outputs": [],
      "source": [
        "# Student 3 name and ID\n",
        "# analysis 2 and result using RDD operators:\n"
      ]
    },
    {
      "cell_type": "code",
      "execution_count": null,
      "metadata": {
        "id": "nefE3dztiWmR"
      },
      "outputs": [],
      "source": [
        "# Student 3 name and ID\n",
        "# analysis 3 and result using RDD operators:\n",
        "\n"
      ]
    },
    {
      "cell_type": "code",
      "execution_count": null,
      "metadata": {
        "id": "XsCBN6zKiXCa"
      },
      "outputs": [],
      "source": [
        "# Student 4 name and ID\n",
        "# analysis 1 and result using RDD operators:\n",
        "\n"
      ]
    },
    {
      "cell_type": "code",
      "execution_count": null,
      "metadata": {
        "id": "FM_3Ih8miXvO"
      },
      "outputs": [],
      "source": [
        "# Student 4 name and ID\n",
        "# analysis 2 and result using RDD operators:\n",
        "\n"
      ]
    },
    {
      "cell_type": "code",
      "execution_count": null,
      "metadata": {
        "id": "x9Jcm2IqiX-B"
      },
      "outputs": [],
      "source": [
        "# Student 4 name and ID\n",
        "# analysis 3 and result using RDD operators:\n",
        "\n"
      ]
    },
    {
      "cell_type": "markdown",
      "metadata": {
        "id": "wHft1Jht1Qxl"
      },
      "source": [
        "\n",
        "# **Task 3 - LSEP (legal, social, ethical, and professional) considerations [5 marks]**\n",
        "\n",
        "---\n"
      ]
    },
    {
      "cell_type": "markdown",
      "metadata": {
        "id": "5liua9g8p8Ny"
      },
      "source": [
        "For all analyses performed, critically analyze the legal, social, ethical, and professional implications associated with the data and the analysis. Consider factors such as `data privacy`,` data protection`, `bias`, `fairness`, `transparency`, and the `potential impact` of the analysis on individuals or society as a whole.\n",
        "\n",
        "**Each student should take one of these factors as their contribution.**\n",
        "\n",
        "As a team, discuss and share your individual analyses and LSEP considerations with each other. Learn from each other's perspectives and insights."
      ]
    },
    {
      "cell_type": "markdown",
      "metadata": {
        "id": "8_0x6oJlqzVA"
      },
      "source": [
        "## Student 1: chosen factor\n",
        "\n",
        "*discussion*\n",
        "\n",
        "\n",
        "## Student 2: chosen factor\n",
        "\n",
        "*discussion*\n",
        "\n",
        "## Student 3: chosen factor\n",
        "\n",
        "*discussion*\n",
        "\n",
        "\n",
        "## Student 4: chosen factor\n",
        "\n",
        "*discussion*\n"
      ]
    },
    {
      "cell_type": "markdown",
      "metadata": {
        "id": "mIM6uLApSxi2"
      },
      "source": [
        "# **Convert ipynb to HTML for Turnitin submission [5 marks]**\n",
        "\n",
        "---\n",
        "\n"
      ]
    },
    {
      "cell_type": "code",
      "execution_count": null,
      "metadata": {
        "id": "ZrQu11N_DCfZ"
      },
      "outputs": [],
      "source": [
        "# install nbconvert\n",
        "#!pip3 install nbconvert\n",
        "\n",
        "\n",
        "# convert ipynb to html\n",
        "# file name: \"Your_Group_ID_CN7031.ipynb\n",
        "!jupyter nbconvert --to html Your_Group_ID_CN7031.ipynb"
      ]
    }
  ],
  "metadata": {
    "colab": {
      "collapsed_sections": [
        "Lx9-Fre4FMda"
      ],
      "provenance": [],
      "include_colab_link": true
    },
    "kernelspec": {
      "display_name": "Python 3",
      "name": "python3"
    }
  },
  "nbformat": 4,
  "nbformat_minor": 0
}